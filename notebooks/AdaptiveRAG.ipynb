{
 "cells": [
  {
   "cell_type": "code",
   "execution_count": 30,
   "metadata": {},
   "outputs": [
    {
     "data": {
      "text/plain": [
       "True"
      ]
     },
     "execution_count": 30,
     "metadata": {},
     "output_type": "execute_result"
    }
   ],
   "source": [
    "import os\n",
    "import sys\n",
    "import arxiv\n",
    "\n",
    "from langchain.text_splitter import RecursiveCharacterTextSplitter\n",
    "from langchain.schema import Document\n",
    "from langchain import hub\n",
    "\n",
    "from langchain_openai.embeddings import OpenAIEmbeddings\n",
    "from langchain_openai import ChatOpenAI\n",
    "\n",
    "from langchain_core.output_parsers import StrOutputParser\n",
    "from langchain_core.prompts import ChatPromptTemplate\n",
    "from langchain_core.pydantic_v1 import BaseModel, Field\n",
    "\n",
    "\n",
    "from langchain_community.document_loaders import PyPDFLoader\n",
    "from langchain_community.vectorstores import Chroma\n",
    "from langchain_community.tools.tavily_search import TavilySearchResults\n",
    "\n",
    "from langgraph.graph import END, StateGraph\n",
    "\n",
    "\n",
    "from typing_extensions import TypedDict\n",
    "from typing import List, Literal\n",
    "\n",
    "from dotenv import load_dotenv\n",
    "load_dotenv()"
   ]
  },
  {
   "cell_type": "code",
   "execution_count": 31,
   "metadata": {},
   "outputs": [],
   "source": [
    "PAPERS = ['2205.14135', '2005.14165', '1706.03762', '2403.14403', '2310.11511', '2401.15884']"
   ]
  },
  {
   "cell_type": "code",
   "execution_count": 32,
   "metadata": {},
   "outputs": [
    {
     "name": "stdout",
     "output_type": "stream",
     "text": [
      "FlashAttention: Fast and Memory-Efficient Exact Attention with IO-Awareness\n",
      "Language Models are Few-Shot Learners\n",
      "Attention Is All You Need\n",
      "Adaptive-RAG: Learning to Adapt Retrieval-Augmented Large Language Models through Question Complexity\n",
      "Self-RAG: Learning to Retrieve, Generate, and Critique through Self-Reflection\n",
      "Corrective Retrieval Augmented Generation\n"
     ]
    }
   ],
   "source": [
    "os.makedirs('../papers_dir/', exist_ok=True)\n",
    "client = arxiv.Client()\n",
    "papers = client.results(arxiv.Search(id_list=PAPERS))\n",
    "for paper in papers:\n",
    "    print(paper.title)\n",
    "    paper.download_pdf(dirpath=\"../papers_dir/\", filename=\"{}.pdf\".format(paper.title.replace(' ','')))\n"
   ]
  },
  {
   "cell_type": "code",
   "execution_count": 33,
   "metadata": {},
   "outputs": [],
   "source": [
    "docs = []\n",
    "\n",
    "for dirpath, dirnames, filenames in os.walk('../papers_dir/'):\n",
    "    for file in filenames:\n",
    "        file_path = os.path.join(dirpath, file)\n",
    "        docs += PyPDFLoader(file_path).load()"
   ]
  },
  {
   "cell_type": "code",
   "execution_count": 34,
   "metadata": {},
   "outputs": [],
   "source": [
    "text_splitter = RecursiveCharacterTextSplitter.from_tiktoken_encoder(\n",
    "    chunk_size=300, chunk_overlap=0\n",
    ")\n",
    "doc_splits = text_splitter.split_documents(docs)"
   ]
  },
  {
   "cell_type": "code",
   "execution_count": 35,
   "metadata": {},
   "outputs": [],
   "source": [
    "vectorstore = Chroma.from_documents(\n",
    "    documents=doc_splits,\n",
    "    collection_name=\"rag-chroma\",\n",
    "    embedding=OpenAIEmbeddings(),\n",
    ")\n",
    "retriever = vectorstore.as_retriever()"
   ]
  },
  {
   "cell_type": "code",
   "execution_count": 36,
   "metadata": {},
   "outputs": [
    {
     "name": "stdout",
     "output_type": "stream",
     "text": [
      "solely from using a longer sequence length (16K). Block-sparse FlashAttention enables a Transformer\n",
      "to scale to even longer sequences (64K), resulting in the ﬁrst model that can achieve better-than-chance\n",
      "performance on Path-256.\n",
      "•Benchmarking Attention. FlashAttention is up to 3\u0002faster than the standard attention implemen-\n",
      "tation across common sequence lengths from 128 to 2K and scales up to 64K. Up to sequence length of 512,\n",
      "FlashAttention is both faster and more memory-eﬃcient than any existing attention method, whereas\n",
      "for sequence length beyond 1K, some approximate attention methods (e.g., Linformer) start to become\n",
      "faster. On the other hand, block-sparse FlashAttention is faster than all existing approximate attention\n",
      "methods that we know of.\n",
      "2 Background\n",
      "We provide some background on the performance characteristics of common deep learning operations on\n",
      "modern hardware (GPUs). We also describe the standard implementation of attention.\n",
      "2.1 Hardware Performance\n",
      "We focus here on GPUs. Performance on other hardware accelerators are similar [46, 48].\n",
      "GPU Memory Hierarchy. The GPU memory hierarchy (Fig. 1 left) comprises multiple forms of\n",
      "memory of diﬀerent sizes and speeds, with smaller memory being faster. As an example, the A100 GPU\n",
      "binary_score='yes'\n"
     ]
    }
   ],
   "source": [
    "# Data model\n",
    "class GradeDocuments(BaseModel):\n",
    "    \"\"\"Binary score for relevance check on retrieved documents.\"\"\"\n",
    "\n",
    "    binary_score: str = Field(description=\"Documents are relevant to the question, 'yes' or 'no'\")\n",
    "\n",
    "# LLM with function call \n",
    "llm = ChatOpenAI(model=\"gpt-3.5-turbo\", temperature=0)\n",
    "structured_llm_grader = llm.with_structured_output(GradeDocuments)\n",
    "\n",
    "# Prompt \n",
    "system = \"\"\"You are a grader assessing relevance of a retrieved document to a user question. \\n \n",
    "    If the document contains keyword(s) or semantic meaning related to the question, grade it as relevant. \\n\n",
    "    Give a binary score 'yes' or 'no' score to indicate whether the document is relevant to the question.\"\"\"\n",
    "    \n",
    "grade_prompt = ChatPromptTemplate.from_messages(\n",
    "    [\n",
    "        (\"system\", system),\n",
    "        (\"human\", \"Retrieved document: \\n\\n {document} \\n\\n User question: {question}\"),\n",
    "    ]\n",
    ")\n",
    "\n",
    "retrieval_grader = grade_prompt | structured_llm_grader\n",
    "question = \"flash attention\"\n",
    "docs = retriever.invoke(question)\n",
    "doc_txt = docs[1].page_content\n",
    "print(doc_txt)\n",
    "print(retrieval_grader.invoke({\"question\": question, \"document\": doc_txt}))"
   ]
  },
  {
   "cell_type": "code",
   "execution_count": 37,
   "metadata": {},
   "outputs": [
    {
     "data": {
      "text/plain": [
       "ChatPromptTemplate(input_variables=['context', 'question'], metadata={'lc_hub_owner': 'rlm', 'lc_hub_repo': 'rag-prompt', 'lc_hub_commit_hash': '50442af133e61576e74536c6556cefe1fac147cad032f4377b60c436e6cdcb6e'}, messages=[HumanMessagePromptTemplate(prompt=PromptTemplate(input_variables=['context', 'question'], template=\"You are an assistant for question-answering tasks. Use the following pieces of retrieved context to answer the question. If you don't know the answer, just say that you don't know. Use three sentences maximum and keep the answer concise.\\nQuestion: {question} \\nContext: {context} \\nAnswer:\"))])"
      ]
     },
     "execution_count": 37,
     "metadata": {},
     "output_type": "execute_result"
    }
   ],
   "source": [
    "# Prompt\n",
    "prompt = hub.pull(\"rlm/rag-prompt\")\n",
    "prompt"
   ]
  },
  {
   "cell_type": "code",
   "execution_count": 38,
   "metadata": {},
   "outputs": [
    {
     "name": "stdout",
     "output_type": "stream",
     "text": [
      "FlashAttention is a fast and memory-efficient exact attention algorithm that trains Transformers faster than existing baselines, achieving speedups on various tasks. It enables longer context in Transformers, leading to higher quality models and new capabilities. FlashAttention is up to 3 times faster than standard attention implementations and scales up to longer sequence lengths.\n"
     ]
    }
   ],
   "source": [
    "# LLM\n",
    "llm = ChatOpenAI(model=\"gpt-3.5-turbo\", temperature=0)\n",
    "\n",
    "# Chain\n",
    "rag_chain = prompt | llm | StrOutputParser()\n",
    "\n",
    "# Run\n",
    "generation = rag_chain.invoke({\"context\": docs, \"question\": question})\n",
    "print(generation)"
   ]
  },
  {
   "cell_type": "code",
   "execution_count": 39,
   "metadata": {},
   "outputs": [
    {
     "data": {
      "text/plain": [
       "GradeHallucinations(binary_score='yes')"
      ]
     },
     "execution_count": 39,
     "metadata": {},
     "output_type": "execute_result"
    }
   ],
   "source": [
    "# Data model\n",
    "class GradeHallucinations(BaseModel):\n",
    "    \"\"\"Binary score for hallucination present in generation answer.\"\"\"\n",
    "\n",
    "    binary_score: str = Field(description=\"Answer is grounded in the facts, 'yes' or 'no'\")\n",
    "\n",
    "# LLM with function call \n",
    "llm = ChatOpenAI(model=\"gpt-3.5-turbo\", temperature=0)\n",
    "structured_llm_grader = llm.with_structured_output(GradeHallucinations)\n",
    "\n",
    "# Prompt \n",
    "system = \"\"\"You are a grader assessing whether an LLM generation is grounded in / supported by a set of retrieved facts. \\n \n",
    "     Give a binary score 'yes' or 'no'. 'Yes' means that the answer is grounded in / supported by the set of facts.\"\"\"\n",
    "hallucination_prompt = ChatPromptTemplate.from_messages(\n",
    "    [\n",
    "        (\"system\", system),\n",
    "        (\"human\", \"Set of facts: \\n\\n {documents} \\n\\n LLM generation: {generation}\"),\n",
    "    ]\n",
    ")\n",
    "\n",
    "hallucination_grader = hallucination_prompt | structured_llm_grader\n",
    "hallucination_grader.invoke({\"documents\": docs, \"generation\": generation})"
   ]
  },
  {
   "cell_type": "code",
   "execution_count": 40,
   "metadata": {},
   "outputs": [
    {
     "data": {
      "text/plain": [
       "GradeAnswer(binary_score='yes')"
      ]
     },
     "execution_count": 40,
     "metadata": {},
     "output_type": "execute_result"
    }
   ],
   "source": [
    "# Data model\n",
    "class GradeAnswer(BaseModel):\n",
    "    \"\"\"Binary score to assess answer addresses question.\"\"\"\n",
    "\n",
    "    binary_score: str = Field(description=\"Answer addresses the question, 'yes' or 'no'\")\n",
    "\n",
    "# LLM with function call \n",
    "llm = ChatOpenAI(model=\"gpt-3.5-turbo\", temperature=0)\n",
    "structured_llm_grader = llm.with_structured_output(GradeAnswer)\n",
    "\n",
    "# Prompt \n",
    "system = \"\"\"You are a grader assessing whether an answer addresses / resolves a question \\n \n",
    "     Give a binary score 'yes' or 'no'. Yes' means that the answer resolves the question.\"\"\"\n",
    "answer_prompt = ChatPromptTemplate.from_messages(\n",
    "    [\n",
    "        (\"system\", system),\n",
    "        (\"human\", \"User question: \\n\\n {question} \\n\\n LLM generation: {generation}\"),\n",
    "    ]\n",
    ")\n",
    "\n",
    "answer_grader = answer_prompt | structured_llm_grader\n",
    "answer_grader.invoke({\"question\": question,\"generation\": generation})"
   ]
  },
  {
   "cell_type": "code",
   "execution_count": 41,
   "metadata": {},
   "outputs": [
    {
     "name": "stdout",
     "output_type": "stream",
     "text": [
      "['Transformers', 'memory-hungry', 'long sequences', 'self-attention', 'approximate attention methods']\n"
     ]
    }
   ],
   "source": [
    "class KeywordExtract(BaseModel):\n",
    "    \"\"\"Route a user query to the most relevant datasource.\"\"\"\n",
    "\n",
    "    keywords: List = Field(\n",
    "        description=\"Given a user summary return a list of keywords.\",\n",
    "    )\n",
    "\n",
    "system = \"\"\"You are a multilingual keyword extractor to be used for search engine.\n",
    "Extract the main topics from the user given context summary of a document.\n",
    "Focus on identifying the key subjects, themes, or issues discussed in the summary. List each topic clearly and concisely in order of importance.\"\"\"\n",
    "\n",
    "prompt = ChatPromptTemplate.from_messages([\n",
    "  (\"system\", system),\n",
    "  (\"human\", \"{context}\"),\n",
    "])\n",
    "# LLM\n",
    "llm = ChatOpenAI(model=\"gpt-3.5-turbo\", temperature=0)\n",
    "structured_llm_extractor = llm.with_structured_output(KeywordExtract)\n",
    "\n",
    "# Chain\n",
    "keyword_chain = prompt | structured_llm_extractor \n",
    "\n",
    "summary = next(client.results(arxiv.Search(id_list=[PAPERS[0]]))).summary\n",
    "\n",
    "\n",
    "# Run\n",
    "generation = keyword_chain.invoke({\"context\": summary})\n",
    "print(generation.keywords[:5])"
   ]
  },
  {
   "cell_type": "code",
   "execution_count": 42,
   "metadata": {},
   "outputs": [
    {
     "data": {
      "text/plain": [
       "['Transformers',\n",
       " 'memory-hungry',\n",
       " 'self-attention',\n",
       " 'NLP tasks',\n",
       " 'pre-training',\n",
       " 'fine-tuning',\n",
       " 'sequence transduction models',\n",
       " 'recurrent neural networks',\n",
       " 'convolutional neural networks',\n",
       " 'Retrieval-Augmented Large Language Models',\n",
       " 'non-parametric knowledge',\n",
       " 'external knowledge bases',\n",
       " 'large language models',\n",
       " 'LLMs',\n",
       " 'factual inaccuracies',\n",
       " 'Large language models',\n",
       " 'hallucinations',\n",
       " 'accuracy']"
      ]
     },
     "execution_count": 42,
     "metadata": {},
     "output_type": "execute_result"
    }
   ],
   "source": [
    "keywords = []\n",
    "papers = client.results(arxiv.Search(id_list=PAPERS))\n",
    "for paper in papers:\n",
    "    summary = paper.summary\n",
    "    generation = keyword_chain.invoke({\"context\": summary})\n",
    "    keywords+=generation.keywords[:3]\n",
    "    \n",
    "keywords"
   ]
  },
  {
   "cell_type": "code",
   "execution_count": 43,
   "metadata": {},
   "outputs": [
    {
     "data": {
      "text/plain": [
       "'Transformers, memory-hungry, self-attention, NLP tasks, pre-training, fine-tuning, sequence transduction models, recurrent neural networks, convolutional neural networks, Retrieval-Augmented Large Language Models, non-parametric knowledge, external knowledge bases, large language models, LLMs, factual inaccuracies, Large language models, hallucinations, accuracy'"
      ]
     },
     "execution_count": 43,
     "metadata": {},
     "output_type": "execute_result"
    }
   ],
   "source": [
    "\", \".join(keyword for keyword in keywords)"
   ]
  },
  {
   "cell_type": "code",
   "execution_count": 44,
   "metadata": {},
   "outputs": [
    {
     "name": "stdout",
     "output_type": "stream",
     "text": [
      "datasource='websearch'\n",
      "datasource='vectorstore'\n"
     ]
    }
   ],
   "source": [
    "# Data model\n",
    "class RouteQuery(BaseModel):\n",
    "    \"\"\"Route a user query to the most relevant datasource.\"\"\"\n",
    "\n",
    "    datasource: Literal[\"vectorstore\", \"websearch\"] = Field(\n",
    "        ...,\n",
    "        description=\"Given a user question choose to route it to web search or a vectorstore.\",\n",
    "    )\n",
    "\n",
    "# LLM with function call \n",
    "llm = ChatOpenAI(model=\"gpt-3.5-turbo\", temperature=0)\n",
    "structured_llm_router = llm.with_structured_output(RouteQuery)\n",
    "\n",
    "# Prompt \n",
    "system = \"\"\"You are an expert at routing a user question to a vectorstore or web search.\n",
    "The vectorstore contains documents related to {}.\n",
    "Use the vectorstore for questions on these topics. For all else, use web-search.\"\"\".format(\", \".join(keyword for keyword in keywords))\n",
    "\n",
    "route_prompt = ChatPromptTemplate.from_messages(\n",
    "    [\n",
    "        (\"system\", system),\n",
    "        (\"human\", \"{question}\"),\n",
    "    ]\n",
    ")\n",
    "\n",
    "question_router = route_prompt | structured_llm_router\n",
    "print(question_router.invoke({\"question\": \"Who will the Bears draft first in the NFL draft?\"}))\n",
    "print(question_router.invoke({\"question\": \"What are the types of agent memory?\"}))"
   ]
  },
  {
   "cell_type": "code",
   "execution_count": 45,
   "metadata": {},
   "outputs": [],
   "source": [
    "web_search_tool = TavilySearchResults(k=3)"
   ]
  },
  {
   "cell_type": "code",
   "execution_count": 46,
   "metadata": {},
   "outputs": [],
   "source": [
    "class GraphState(TypedDict):\n",
    "    \"\"\"\n",
    "    Represents the state of our graph.\n",
    "\n",
    "    Attributes:\n",
    "        question: question\n",
    "        generation: LLM generation\n",
    "        web_search: whether to add search\n",
    "        documents: list of documents \n",
    "    \"\"\"\n",
    "    question : str\n",
    "    generation : str\n",
    "    web_search : bool\n",
    "    grounded : bool\n",
    "    documents : List[str]\n",
    "    steps : int\n",
    "    end : bool"
   ]
  },
  {
   "cell_type": "code",
   "execution_count": 47,
   "metadata": {},
   "outputs": [],
   "source": [
    "def retrieve(state: GraphState) -> GraphState:\n",
    "    \"\"\"\n",
    "    Retrieve documents from vectorstore\n",
    "\n",
    "    Args:\n",
    "        state (dict): The current graph state\n",
    "\n",
    "    Returns:\n",
    "        state (dict): New key added to state, documents, that contains retrieved documents\n",
    "    \"\"\"\n",
    "    print('-- RETRIEVE --')\n",
    "    question = state['question']\n",
    "    docs = retriever.invoke(question)\n",
    "\n",
    "    return {\n",
    "        'documents' : docs,\n",
    "        'question' : question\n",
    "    }\n",
    "    "
   ]
  },
  {
   "cell_type": "code",
   "execution_count": 48,
   "metadata": {},
   "outputs": [],
   "source": [
    "def generate(state: GraphState) -> GraphState:\n",
    "    \"\"\"\n",
    "    Generate answer using RAG on retrieved documents\n",
    "\n",
    "    Args:\n",
    "        state (dict): The current graph state\n",
    "\n",
    "    Returns:\n",
    "        state (dict): New key added to state, generation, that contains LLM generation\n",
    "    \"\"\"\n",
    "    print(\"---GENERATE---\")\n",
    "    question = state['question']\n",
    "    docs = state['documents']\n",
    "    generation = rag_chain.invoke({\"context\": docs, \"question\": question})\n",
    "\n",
    "    return {\n",
    "        'documents' : docs,\n",
    "        'question' : question,\n",
    "        'generation': generation\n",
    "    }"
   ]
  },
  {
   "cell_type": "code",
   "execution_count": 49,
   "metadata": {},
   "outputs": [],
   "source": [
    "def grade_documents(state: GraphState) -> GraphState:\n",
    "    \"\"\"\n",
    "    Determines whether the retrieved documents are relevant to the question\n",
    "    If any document is not relevant, we will set a flag to run web search\n",
    "\n",
    "    Args:\n",
    "        state (dict): The current graph state\n",
    "\n",
    "    Returns:\n",
    "        state (dict): Filtered out irrelevant documents and updated web_search state\n",
    "    \"\"\"\n",
    "\n",
    "    print(\"---CHECK DOCUMENT RELEVANCE TO QUESTION---\")\n",
    "    question = state['question']\n",
    "    docs = state['documents']\n",
    "    new_docs = []\n",
    "    web_search = False\n",
    "    for doc in docs:\n",
    "        res = retrieval_grader.invoke({\"question\": question, \"document\": doc})\n",
    "        score = res.binary_score\n",
    "        \n",
    "        if score.lower() == 'yes':\n",
    "            print(\"---GRADE: DOCUMENT RELEVANT---\")\n",
    "            new_docs.append(doc)\n",
    "        else:\n",
    "            print(\"---GRADE: DOCUMENT NOT RELEVANT---\")\n",
    "            web_search = True\n",
    "    \n",
    "    return {\n",
    "        'documents' : new_docs,\n",
    "        'question' : question,\n",
    "        'web_search' : web_search\n",
    "    }\n"
   ]
  },
  {
   "cell_type": "code",
   "execution_count": 50,
   "metadata": {},
   "outputs": [],
   "source": [
    "def web_search(state: GraphState) -> GraphState:\n",
    "    \"\"\"\n",
    "    Web search based based on the question\n",
    "\n",
    "    Args:\n",
    "        state (dict): The current graph state\n",
    "\n",
    "    Returns:\n",
    "        state (dict): Appended web results to documents\n",
    "    \"\"\"\n",
    "\n",
    "    print(\"---WEB SEARCH---\")\n",
    "    question = state[\"question\"]\n",
    "    documents = state[\"documents\"]\n",
    "\n",
    "    # Web search\n",
    "    docs = web_search_tool.invoke({\"query\": question})\n",
    "    web_results = \"\\n\".join([d[\"content\"] for d in docs])\n",
    "    web_results = Document(page_content=web_results)\n",
    "    if documents is not None:\n",
    "        documents.append(web_results)\n",
    "    else:\n",
    "        documents = [web_results]\n",
    "    return {\n",
    "        \"documents\": documents,\n",
    "        \"question\": question\n",
    "    }\n"
   ]
  },
  {
   "cell_type": "code",
   "execution_count": 51,
   "metadata": {},
   "outputs": [],
   "source": [
    "def decide_to_generate(state: GraphState) -> str:\n",
    "    \"\"\"\n",
    "    Determines whether to generate an answer, or add web search\n",
    "\n",
    "    Args:\n",
    "        state (dict): The current graph state\n",
    "\n",
    "    Returns:\n",
    "        str: Binary decision for next node to call\n",
    "    \"\"\"\n",
    "\n",
    "    print(\"---ASSESS GRADED DOCUMENTS---\")\n",
    "    web_search = state[\"web_search\"]\n",
    "\n",
    "    if web_search:\n",
    "        # All documents have been filtered check_relevance\n",
    "        # We will re-generate a new query\n",
    "        print(\"---DECISION: NOT ALL DOCUMENTS ARE RELEVANT TO QUESTION, INCLUDE WEB SEARCH---\")\n",
    "        return \"websearch\"\n",
    "    else:\n",
    "        # We have relevant documents, so generate answer\n",
    "        print(\"---DECISION: GENERATE---\")\n",
    "        return \"generate\""
   ]
  },
  {
   "cell_type": "code",
   "execution_count": 52,
   "metadata": {},
   "outputs": [],
   "source": [
    "def grade_generation_v_documents(state: GraphState) -> GraphState:\n",
    "    \"\"\"\n",
    "    Determines whether the generation is grounded in the document and answers question\n",
    "\n",
    "    Args:\n",
    "        state (dict): The current graph state\n",
    "\n",
    "    Returns:\n",
    "        state (dict): Appended hallucination addressing measure\n",
    "    \"\"\"\n",
    "\n",
    "    print(\"---CHECK HALLUCINATIONS---\")\n",
    "    question = state[\"question\"]\n",
    "    docs = state['documents']\n",
    "    generation = state[\"generation\"]\n",
    "    steps = state[\"steps\"]\n",
    "    score = hallucination_grader.invoke({\"documents\": docs, \"generation\": generation})\n",
    "    grade = score.binary_score\n",
    "    \n",
    "    grounded = grade.lower() == 'yes'\n",
    "    if grounded:\n",
    "        print(\"---DECISION: GENERATION IS GROUNDED IN DOCUMENTS---\")\n",
    "    else:\n",
    "        print(\"---DECISION: REGENERATE---\")\n",
    "        if steps is not None:\n",
    "            steps += 1\n",
    "        else:\n",
    "            steps = 1\n",
    "        \n",
    "        \n",
    "    \n",
    "    return {\n",
    "        \"question\" : question,\n",
    "        \"generation\" : generation,\n",
    "        \"grounded\" : grounded,\n",
    "        \"steps\" : steps,\n",
    "        \"documents\" : docs\n",
    "    }"
   ]
  },
  {
   "cell_type": "code",
   "execution_count": 53,
   "metadata": {},
   "outputs": [],
   "source": [
    "def grade_generation_v_question(state: GraphState) -> GraphState:\n",
    "    \"\"\"\n",
    "    Determines whether the generation is grounded in the document and answers question\n",
    "\n",
    "    Args:\n",
    "        state (dict): The current graph state\n",
    "\n",
    "    Returns:\n",
    "        state (dict): Appended question addressing measure\n",
    "    \"\"\"\n",
    "\n",
    "    print(\"---CHECK GENERATON ADDRESSES QUESTION---\")\n",
    "    question = state[\"question\"]\n",
    "    docs = state['documents']\n",
    "    generation = state[\"generation\"]\n",
    "    steps = state[\"steps\"]\n",
    "\n",
    "\n",
    "    score = answer_grader.invoke({\"question\": question,\"generation\": generation})\n",
    "    grade = score.binary_score\n",
    "\n",
    "    end = False\n",
    "    if grade.lower() == 'yes':\n",
    "        print(\"---DECISION: GENERATION ADDRESSES QUESTION---\")\n",
    "        end = True\n",
    "    else:\n",
    "        print(\"---DECISION: GENERATION DOES NOT ADDRESS QUESTION---\")\n",
    "        if steps is not None:\n",
    "            steps += 1\n",
    "        else:\n",
    "            steps = 1\n",
    "        \n",
    "    \n",
    "    return {\n",
    "        \"question\" : question,\n",
    "        \"generation\" : generation,\n",
    "        \"end\" : end,\n",
    "        \"documents\" : docs\n",
    "    }"
   ]
  },
  {
   "cell_type": "code",
   "execution_count": 54,
   "metadata": {},
   "outputs": [],
   "source": [
    "def hallucinated(state: GraphState) -> str:\n",
    "    \"\"\"\n",
    "    Determines whether to regenerate an answer based on halluciation\n",
    "\n",
    "    Args:\n",
    "        state (dict): The current graph state\n",
    "\n",
    "    Returns:\n",
    "        str: Binary decision for next node to call\n",
    "    \"\"\"\n",
    "    \n",
    "    grounded= state[\"grounded\"]\n",
    "    \n",
    "    if grounded:\n",
    "        return \"no\"\n",
    "    else:\n",
    "        steps = state[\"steps\"]\n",
    "        if steps < 5:\n",
    "            return \"regenerate\"\n",
    "        else:\n",
    "            print(\"---EXCEEDED STEPS---\")\n",
    "        return \"end\""
   ]
  },
  {
   "cell_type": "code",
   "execution_count": 55,
   "metadata": {},
   "outputs": [],
   "source": [
    "def answers_question(state: GraphState) -> str:\n",
    "    \"\"\"\n",
    "    Determines whether to regenerate an answer based on the quality of the answer\n",
    "\n",
    "    Args:\n",
    "        state (dict): The current graph state\n",
    "\n",
    "    Returns:\n",
    "        str: Binary decision for next node to call\n",
    "    \"\"\"\n",
    "    \n",
    "    \n",
    "    print(\"---ASSESS HALLUCINATIONS---\")\n",
    "    end = state[\"end\"]\n",
    "    \n",
    "    if end:\n",
    "        return \"yes\"\n",
    "    else:\n",
    "        steps = state[\"steps\"]\n",
    "\n",
    "        if steps < 5:\n",
    "            return \"regenerate\"\n",
    "        else:\n",
    "            print(\"---EXCEEDED STEPS---\")\n",
    "        return \"yes\""
   ]
  },
  {
   "cell_type": "code",
   "execution_count": 56,
   "metadata": {},
   "outputs": [],
   "source": [
    "def route_question(state: GraphState) -> str:\n",
    "    \"\"\"\n",
    "    Route question to web search or RAG \n",
    "\n",
    "    Args:\n",
    "        state (dict): The current graph state\n",
    "\n",
    "    Returns:\n",
    "        str: Next node to call\n",
    "    \"\"\"\n",
    "\n",
    "    print(\"---ROUTE QUESTION---\")\n",
    "    question = state[\"question\"]\n",
    "    source = question_router.invoke({\"question\": question})   \n",
    "    if source.datasource == 'websearch':\n",
    "        print(\"---ROUTE QUESTION TO WEB SEARCH---\")\n",
    "        return \"websearch\"\n",
    "    elif source.datasource == 'vectorstore':\n",
    "        print(\"---ROUTE QUESTION TO RAG---\")\n",
    "        return \"vectorstore\""
   ]
  },
  {
   "cell_type": "code",
   "execution_count": 57,
   "metadata": {},
   "outputs": [],
   "source": [
    "workflow = StateGraph(GraphState)\n",
    "\n",
    "# Define the nodes\n",
    "workflow.add_node(\"retrieve\", retrieve)  # retrieve\n",
    "workflow.add_node(\"grade_documents\", grade_documents)  # grade documents\n",
    "workflow.add_node(\"generate\", generate)  # generatae\n",
    "workflow.add_node(\"websearch\", web_search)  # web search\n",
    "workflow.add_node(\"check_hallucination\", grade_generation_v_documents) #hallucination check\n",
    "workflow.add_node(\"check_answer\", grade_generation_v_question) #hallucination check\n",
    "\n",
    "\n",
    "# Build graph\n",
    "workflow.set_conditional_entry_point(\n",
    "    route_question,\n",
    "    {\n",
    "        \"websearch\": \"websearch\",\n",
    "        \"vectorstore\": \"retrieve\",\n",
    "    },\n",
    ")\n",
    "workflow.add_edge(\"websearch\", \"generate\")\n",
    "workflow.add_edge(\"retrieve\", \"grade_documents\")\n",
    "workflow.add_conditional_edges(\n",
    "    \"grade_documents\",\n",
    "    decide_to_generate,\n",
    "    {\n",
    "        \"websearch\": \"websearch\",\n",
    "        \"generate\": \"generate\",\n",
    "    },\n",
    ")\n",
    "workflow.add_edge(\"generate\", \"check_hallucination\")\n",
    "workflow.add_conditional_edges(\n",
    "    \"check_hallucination\",\n",
    "    hallucinated,\n",
    "    {\n",
    "        \"regenerate\": \"generate\",\n",
    "        \"end\": END,\n",
    "        \"no\": \"check_answer\",\n",
    "    },\n",
    ")\n",
    "workflow.add_conditional_edges(\n",
    "    \"check_answer\",\n",
    "    answers_question,\n",
    "    {\n",
    "        \"regenerate\": \"websearch\",\n",
    "        \"yes\": END,\n",
    "    },\n",
    ")\n",
    "\n",
    "# Compile\n",
    "app = workflow.compile()"
   ]
  },
  {
   "cell_type": "code",
   "execution_count": 58,
   "metadata": {},
   "outputs": [
    {
     "data": {
      "image/jpeg": "[encoded data removed]",
      "text/plain": [
       "<IPython.core.display.Image object>"
      ]
     },
     "metadata": {},
     "output_type": "display_data"
    }
   ],
   "source": [
    "from IPython.display import Image, display\n",
    "from langchain_core.runnables.graph import CurveStyle, MermaidDrawMethod, NodeColors\n",
    "\n",
    "display(\n",
    "    Image(\n",
    "        app.get_graph().draw_mermaid_png(\n",
    "            draw_method=MermaidDrawMethod.API,\n",
    "        )\n",
    "    )\n",
    ")"
   ]
  },
  {
   "cell_type": "code",
   "execution_count": 59,
   "metadata": {},
   "outputs": [
    {
     "name": "stdout",
     "output_type": "stream",
     "text": [
      "---ROUTE QUESTION---\n",
      "---ROUTE QUESTION TO RAG---\n",
      "-- RETRIEVE --\n",
      "Finished running: retrieve:\n",
      "---CHECK DOCUMENT RELEVANCE TO QUESTION---\n",
      "---GRADE: DOCUMENT RELEVANT---\n",
      "---GRADE: DOCUMENT RELEVANT---\n",
      "---GRADE: DOCUMENT RELEVANT---\n",
      "---GRADE: DOCUMENT RELEVANT---\n",
      "---ASSESS GRADED DOCUMENTS---\n",
      "---DECISION: GENERATE---\n",
      "Finished running: grade_documents:\n",
      "---GENERATE---\n",
      "Finished running: generate:\n",
      "---CHECK HALLUCINATIONS---\n",
      "---DECISION: GENERATION IS GROUNDED IN DOCUMENTS---\n",
      "Finished running: check_hallucination:\n",
      "---CHECK GENERATON ADDRESSES QUESTION---\n",
      "---DECISION: GENERATION ADDRESSES QUESTION---\n",
      "---ASSESS HALLUCINATIONS---\n",
      "Finished running: check_answer:\n",
      "The matrixes that are part of attention include the query matrix (Q), the key matrix (K), and the value matrix (V). These matrices are used in the computation of the attention function in the context of Scaled Dot-Product Attention. The attention function involves operations on these matrices to calculate the weights assigned to the values.\n"
     ]
    }
   ],
   "source": [
    "inputs = {\"question\": \"What matrixes are part of attention?\"}\n",
    "for output in app.stream(inputs):\n",
    "    for key, value in output.items():\n",
    "        print(f\"Finished running: {key}:\")\n",
    "print(value[\"generation\"])"
   ]
  },
  {
   "cell_type": "code",
   "execution_count": 60,
   "metadata": {},
   "outputs": [
    {
     "name": "stdout",
     "output_type": "stream",
     "text": [
      "---ROUTE QUESTION---\n",
      "---ROUTE QUESTION TO RAG---\n",
      "-- RETRIEVE --\n",
      "Finished running: retrieve:\n",
      "---CHECK DOCUMENT RELEVANCE TO QUESTION---\n",
      "---GRADE: DOCUMENT RELEVANT---\n",
      "---GRADE: DOCUMENT NOT RELEVANT---\n",
      "---GRADE: DOCUMENT NOT RELEVANT---\n",
      "---GRADE: DOCUMENT NOT RELEVANT---\n",
      "---ASSESS GRADED DOCUMENTS---\n",
      "---DECISION: NOT ALL DOCUMENTS ARE RELEVANT TO QUESTION, INCLUDE WEB SEARCH---\n",
      "Finished running: grade_documents:\n",
      "---WEB SEARCH---\n",
      "Finished running: websearch:\n",
      "---GENERATE---\n",
      "Finished running: generate:\n",
      "---CHECK HALLUCINATIONS---\n",
      "---DECISION: GENERATION IS GROUNDED IN DOCUMENTS---\n",
      "Finished running: check_hallucination:\n",
      "---CHECK GENERATON ADDRESSES QUESTION---\n",
      "---DECISION: GENERATION ADDRESSES QUESTION---\n",
      "---ASSESS HALLUCINATIONS---\n",
      "Finished running: check_answer:\n",
      "A decoder-only architecture is a model that consists of only a decoder, trained to predict the next token in a sequence given the previous tokens. Unlike the Encoder-Decoder architecture, the Decoder-only architecture does not have an explicit encoder to summarize the input information. This architecture is commonly used in tasks like language translation and text generation.\n"
     ]
    }
   ],
   "source": [
    "inputs = {\"question\": \"What is a decoder only architecture?\"}\n",
    "for output in app.stream(inputs):\n",
    "    for key, value in output.items():\n",
    "        print(f\"Finished running: {key}:\")\n",
    "print(value[\"generation\"])"
   ]
  },
  {
   "cell_type": "code",
   "execution_count": 61,
   "metadata": {},
   "outputs": [
    {
     "name": "stdout",
     "output_type": "stream",
     "text": [
      "---ROUTE QUESTION---\n",
      "---ROUTE QUESTION TO WEB SEARCH---\n",
      "---WEB SEARCH---\n",
      "Finished running: websearch:\n",
      "---GENERATE---\n",
      "Finished running: generate:\n",
      "---CHECK HALLUCINATIONS---\n",
      "---DECISION: GENERATION IS GROUNDED IN DOCUMENTS---\n",
      "Finished running: check_hallucination:\n",
      "---CHECK GENERATON ADDRESSES QUESTION---\n",
      "---DECISION: GENERATION ADDRESSES QUESTION---\n",
      "---ASSESS HALLUCINATIONS---\n",
      "Finished running: check_answer:\n",
      "Andrej Karpathy is an artificial intelligence researcher and one of the founding members of OpenAI. He completed his Computer Science and Physics bachelor's degrees at the University of Toronto and received his master's degree at the University of British Columbia. Karpathy specializes in deep learning and computer vision.\n"
     ]
    }
   ],
   "source": [
    "inputs = {\"question\": \"Andrej Karpathy just released GPT-2 the movie where he used flash attention to optimize the training time. Who is Andrej Karpathy?\"}\n",
    "for output in app.stream(inputs):\n",
    "    for key, value in output.items():\n",
    "        print(f\"Finished running: {key}:\")\n",
    "print(value[\"generation\"])"
   ]
  },
  {
   "cell_type": "code",
   "execution_count": 62,
   "metadata": {},
   "outputs": [
    {
     "name": "stdout",
     "output_type": "stream",
     "text": [
      "---ROUTE QUESTION---\n",
      "---ROUTE QUESTION TO WEB SEARCH---\n",
      "---WEB SEARCH---\n",
      "Finished running: websearch:\n",
      "---GENERATE---\n",
      "Finished running: generate:\n",
      "---CHECK HALLUCINATIONS---\n",
      "---DECISION: GENERATION IS GROUNDED IN DOCUMENTS---\n",
      "Finished running: check_hallucination:\n",
      "---CHECK GENERATON ADDRESSES QUESTION---\n",
      "---DECISION: GENERATION ADDRESSES QUESTION---\n",
      "---ASSESS HALLUCINATIONS---\n",
      "Finished running: check_answer:\n",
      "Andrej Karpathy is a computer scientist specializing in deep learning and computer vision. He completed his PhD at Stanford University in 2016 under the supervision of Fei-Fei Li. Karpathy is a founding member of the artificial intelligence research group OpenAI.\n"
     ]
    }
   ],
   "source": [
    "inputs = {\"question\": \"Who is Andrej Karpathy?\"}\n",
    "for output in app.stream(inputs):\n",
    "    for key, value in output.items():\n",
    "        print(f\"Finished running: {key}:\")\n",
    "print(value[\"generation\"])"
   ]
  },
  {
   "cell_type": "code",
   "execution_count": 63,
   "metadata": {},
   "outputs": [
    {
     "data": {
      "text/plain": [
       "['FlashAttention: Fast and Memory-Efficient Exact Attention with IO-Awareness',\n",
       " 'Self-RAG: Learning to Retrieve, Generate, and Critique through Self-Reflection',\n",
       " 'Adaptive-RAG: Learning to Adapt Retrieval-Augmented Large Language Models through Question Complexity',\n",
       " 'Attention Is All You Need',\n",
       " 'Language Models are Few-Shot Learners',\n",
       " 'Corrective Retrieval Augmented Generation']"
      ]
     },
     "execution_count": 63,
     "metadata": {},
     "output_type": "execute_result"
    }
   ],
   "source": [
    "os.listdir('./papers/')"
   ]
  },
  {
   "cell_type": "code",
   "execution_count": 72,
   "metadata": {},
   "outputs": [
    {
     "data": {
      "text/plain": [
       "['./papers_dir/AttentionIsAllYouNeed.pdf',\n",
       " './papers_dir/Self-RAG:LearningtoRetrieve,Generate,andCritiquethroughSelf-Reflection.pdf',\n",
       " './papers_dir/Adaptive-RAG:LearningtoAdaptRetrieval-AugmentedLargeLanguageModelsthroughQuestionComplexity.pdf',\n",
       " './papers_dir/CorrectiveRetrievalAugmentedGeneration.pdf',\n",
       " './papers_dir/LanguageModelsareFew-ShotLearners.pdf',\n",
       " './papers_dir/FlashAttention:FastandMemory-EfficientExactAttentionwithIO-Awareness.pdf']"
      ]
     },
     "execution_count": 72,
     "metadata": {},
     "output_type": "execute_result"
    }
   ],
   "source": [
    "list(set([v['source'] for v in vectorstore.get()[\"metadatas\"]]))"
   ]
  },
  {
   "cell_type": "code",
   "execution_count": null,
   "metadata": {},
   "outputs": [],
   "source": []
  }
 ],
 "metadata": {
  "kernelspec": {
   "display_name": "Python 3",
   "language": "python",
   "name": "python3"
  },
  "language_info": {
   "codemirror_mode": {
    "name": "ipython",
    "version": 3
   },
   "file_extension": ".py",
   "mimetype": "text/x-python",
   "name": "python",
   "nbconvert_exporter": "python",
   "pygments_lexer": "ipython3",
   "version": "3.11.4"
  },
  "orig_nbformat": 4
 },
 "nbformat": 4,
 "nbformat_minor": 2
}
